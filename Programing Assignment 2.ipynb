{
 "cells": [
  {
   "cell_type": "markdown",
   "id": "def65da3",
   "metadata": {},
   "source": [
    "Write a Python program to convert kilometers to miles?"
   ]
  },
  {
   "cell_type": "code",
   "execution_count": 3,
   "id": "51f7fab4",
   "metadata": {},
   "outputs": [
    {
     "name": "stdout",
     "output_type": "stream",
     "text": [
      "Enter the Km : 4\n",
      "Km into the Miles :  2.485484\n"
     ]
    }
   ],
   "source": [
    "#1km = 0.621371\n",
    "a = int(input(\"Enter the Km : \"))\n",
    "b = a * 0.621371\n",
    "print(\"Km into the Miles : \", b)"
   ]
  },
  {
   "cell_type": "markdown",
   "id": "a5721d4d",
   "metadata": {},
   "source": [
    "Write a Python program to convert Celsius to Fahrenheit?"
   ]
  },
  {
   "cell_type": "code",
   "execution_count": 6,
   "id": "c32d08aa",
   "metadata": {},
   "outputs": [
    {
     "name": "stdout",
     "output_type": "stream",
     "text": [
      "Enter the value in the Celsius : 28\n",
      "Celsius to Farenheit :  53.4\n"
     ]
    }
   ],
   "source": [
    "# (0°C × 9/5) + 3\n",
    "a = int(input(\"Enter the value in the Celsius : \"))\n",
    "b = (a * 9/5) + 3\n",
    "print(\"Celsius to Farenheit : \", b)"
   ]
  },
  {
   "cell_type": "markdown",
   "id": "df1afc6a",
   "metadata": {},
   "source": [
    "Write a Python program to display calendar?"
   ]
  },
  {
   "cell_type": "code",
   "execution_count": 11,
   "id": "2a107ce4",
   "metadata": {},
   "outputs": [
    {
     "name": "stdout",
     "output_type": "stream",
     "text": [
      "Enter the Year : 2023\n",
      "Enter the Month : 4\n",
      "     April 2023\n",
      "Mo Tu We Th Fr Sa Su\n",
      "                1  2\n",
      " 3  4  5  6  7  8  9\n",
      "10 11 12 13 14 15 16\n",
      "17 18 19 20 21 22 23\n",
      "24 25 26 27 28 29 30\n",
      "\n"
     ]
    }
   ],
   "source": [
    "import calendar\n",
    "\n",
    "a = int(input(\"Enter the Year : \"))\n",
    "b = int(input(\"Enter the Month : \"))\n",
    "\n",
    "print(calendar.month(a,b))"
   ]
  },
  {
   "cell_type": "markdown",
   "id": "911ab47d",
   "metadata": {},
   "source": [
    "Write a Python program to solve quadratic equation?"
   ]
  },
  {
   "cell_type": "code",
   "execution_count": 21,
   "id": "9c6bad34",
   "metadata": {},
   "outputs": [
    {
     "name": "stdout",
     "output_type": "stream",
     "text": [
      "-2.0 -3.0\n"
     ]
    }
   ],
   "source": [
    "import math\n",
    "a = 1\n",
    "b = 5\n",
    "c = 6 \n",
    "\n",
    "d = b**2 - 4*a*c\n",
    "\n",
    "if (d > 0 ):\n",
    "    root1 = (-b + math.sqrt(d)) / (2 * a)\n",
    "    root2 = (-b - math.sqrt(d)) / (2 * a)\n",
    "    print(root1, root2 )\n",
    "elif d == 0 :\n",
    "    root1=root2 = -b/2*a\n",
    "else :\n",
    "    print(\"If the discriminant is a negative number, there will not be any real solutions\")"
   ]
  },
  {
   "cell_type": "markdown",
   "id": "2afcaa2d",
   "metadata": {},
   "source": [
    "Write a Python program to swap two variables without temp variable?"
   ]
  },
  {
   "cell_type": "code",
   "execution_count": 12,
   "id": "093db27b",
   "metadata": {},
   "outputs": [
    {
     "name": "stdout",
     "output_type": "stream",
     "text": [
      "Before Swapping \n",
      "a  5\n",
      "b  6\n",
      "After Swapping\n",
      "a  6\n",
      "b  5\n"
     ]
    }
   ],
   "source": [
    "a = 5\n",
    "b = 6\n",
    "print(\"Before Swapping \")\n",
    "print(\"a \", a)\n",
    "print(\"b \", b)\n",
    "\n",
    "a = a + b\n",
    "b = a - b\n",
    "a = a - b\n",
    "\n",
    "print(\"After Swapping\")\n",
    "print(\"a \", a)\n",
    "print(\"b \", b)"
   ]
  }
 ],
 "metadata": {
  "kernelspec": {
   "display_name": "Python 3 (ipykernel)",
   "language": "python",
   "name": "python3"
  },
  "language_info": {
   "codemirror_mode": {
    "name": "ipython",
    "version": 3
   },
   "file_extension": ".py",
   "mimetype": "text/x-python",
   "name": "python",
   "nbconvert_exporter": "python",
   "pygments_lexer": "ipython3",
   "version": "3.9.12"
  }
 },
 "nbformat": 4,
 "nbformat_minor": 5
}
