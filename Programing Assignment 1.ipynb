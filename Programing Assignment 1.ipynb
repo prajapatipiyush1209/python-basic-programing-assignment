{
 "cells": [
  {
   "cell_type": "markdown",
   "id": "e31ae1f8",
   "metadata": {},
   "source": [
    "Write a Python program to print \"Hello Python\""
   ]
  },
  {
   "cell_type": "code",
   "execution_count": 1,
   "id": "e2676223",
   "metadata": {},
   "outputs": [
    {
     "name": "stdout",
     "output_type": "stream",
     "text": [
      "Hello Python\n"
     ]
    }
   ],
   "source": [
    "print(\"Hello Python\")"
   ]
  },
  {
   "cell_type": "markdown",
   "id": "804a32aa",
   "metadata": {},
   "source": [
    "Write a Python program to do arithmetical operations addition and division.?"
   ]
  },
  {
   "cell_type": "code",
   "execution_count": 2,
   "id": "a6e80c2f",
   "metadata": {},
   "outputs": [
    {
     "name": "stdout",
     "output_type": "stream",
     "text": [
      "5\n",
      "0.6666666666666666\n",
      "0\n"
     ]
    }
   ],
   "source": [
    "print(2+3)\n",
    "print(2/3)\n",
    "print(2//3)"
   ]
  },
  {
   "cell_type": "markdown",
   "id": "55d735cb",
   "metadata": {},
   "source": [
    "Write a Python program to find the area of a triangle?"
   ]
  },
  {
   "cell_type": "code",
   "execution_count": 5,
   "id": "ec663d26",
   "metadata": {},
   "outputs": [
    {
     "name": "stdout",
     "output_type": "stream",
     "text": [
      "Area of the triangl  6.0\n"
     ]
    }
   ],
   "source": [
    "a = 3\n",
    "b = 4 \n",
    "print(\"Area of the triangl \", 0.5 * a * b )"
   ]
  },
  {
   "cell_type": "markdown",
   "id": "1b689d8a",
   "metadata": {},
   "source": [
    "Write a Python program to swap two variables?"
   ]
  },
  {
   "cell_type": "code",
   "execution_count": 8,
   "id": "43707755",
   "metadata": {},
   "outputs": [
    {
     "name": "stdout",
     "output_type": "stream",
     "text": [
      "a  2\n",
      "b  3\n",
      "a  3\n",
      "b  2\n"
     ]
    }
   ],
   "source": [
    "a = 2 \n",
    "b = 3\n",
    "print(\"a \", a)\n",
    "print(\"b \", b)\n",
    "\n",
    "temp = a\n",
    "a = b \n",
    "b = temp\n",
    "print(\"a \",a)\n",
    "print(\"b \",b)\n"
   ]
  },
  {
   "cell_type": "markdown",
   "id": "7adbaac0",
   "metadata": {},
   "source": [
    "Write a Python program to generate a random number?"
   ]
  },
  {
   "cell_type": "code",
   "execution_count": 14,
   "id": "13dd74a4",
   "metadata": {},
   "outputs": [
    {
     "name": "stdout",
     "output_type": "stream",
     "text": [
      "2\n"
     ]
    }
   ],
   "source": [
    "import random \n",
    "\n",
    "print(random.randint(2,6))"
   ]
  }
 ],
 "metadata": {
  "kernelspec": {
   "display_name": "Python 3 (ipykernel)",
   "language": "python",
   "name": "python3"
  },
  "language_info": {
   "codemirror_mode": {
    "name": "ipython",
    "version": 3
   },
   "file_extension": ".py",
   "mimetype": "text/x-python",
   "name": "python",
   "nbconvert_exporter": "python",
   "pygments_lexer": "ipython3",
   "version": "3.9.12"
  }
 },
 "nbformat": 4,
 "nbformat_minor": 5
}
